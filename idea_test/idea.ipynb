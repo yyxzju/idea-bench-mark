{
 "cells": [
  {
   "cell_type": "markdown",
   "metadata": {},
   "source": [
    "### user input"
   ]
  },
  {
   "cell_type": "markdown",
   "metadata": {},
   "source": [
    "https://m1ajm8uwds7.feishu.cn/wiki/NpWTwqzcBie59KkPNFscA06znQc"
   ]
  },
  {
   "cell_type": "markdown",
   "metadata": {},
   "source": [
    "1.A large fraction of metalloenzymes harbors multiple metal-centers that are electronically and/or functionally arranged within their proteinaceous environments. To explore the orchestration of inorganic and biochemical components and to develop bioinorganic catalysts and materials, we have described selected examples of artificial metalloproteins having multiple metallocofactors that were grouped depending on their initial protein scaffolds, the nature of introduced inorganic moieties, and the method used to propagate the number of metal ions within a protein. They demonstrated that diverse inorganic moieties can be selectively grafted and modulated in protein environments, providing a retrosynthetic bottom-up approach in the design of versatile and proficient biocatalysts and biomimetic model systems to explore fundamental questions in bioinorganic chemistry.\\n2.Metalloproteins and metalloenzymes play important roles in biological systems by using the limited metal ions, complexes, and clusters that are associated with the protein matrix. The design of artificial metalloproteins and metalloenzymes not only reveals the structure and function relationship of natural proteins, but also enables the synthesis of artificial proteins and enzymes with improved properties and functions. Acknowledging the progress in rational design from single to multiple active sites, this review focuses on recent achievements in the design of artificial metalloproteins and metalloenzymes with metal clusters, including zinc clusters, cadmium clusters, iron-sulfur clusters, and copper-sulfur clusters, as well as noble metal clusters and others. These metal clusters were designed in both native and de novo protein scaffolds for structural roles, electron transfer, or catalysis. Some synthetic metal clusters as functional models of native enzymes are also discussed. These achievements provide valuable insights for deep understanding of the natural proteins and enzymes, and practical clues for the further design of artificial enzymes with functions comparable or even beyond those of natural counterparts.\\n这是2篇文献摘要，请总结一下这里面的研究领域有哪些，请问里面涉及哪些具体的酶的类型（如金属蛋白酶、β-内酰胺酶、超氧化物歧化酶），哪种金属在酶中最为广泛？文档里面设计哪些具体研究方法和技术？请按出现频率多到少排序输出。\\n然后你们可以聊一聊，这个领域已经取得了什么进展，未来有什么可以做的有价值的研究？尤其是，我们是做计算的，使用分子模拟或人工智能的技术有何可为？请结合我提供的文献和笔记来回答，必要时引用其信息来源。"
   ]
  },
  {
   "cell_type": "markdown",
   "metadata": {},
   "source": [
    "测试建议：\n",
    "- 参与的英雄：生物物理学家David Baker，计算生物学家Michael Levitt，AlphaFold开发者John Jumper，等\n",
    "  - Google已经爬了这些人，自己改一下文件名吧\n",
    "- 因为参考资料比较多，所以建议多讨论几轮，如3轮\n",
    "- 讨论种类：一个人启发型，一个人解答型"
   ]
  },
  {
   "cell_type": "code",
   "execution_count": null,
   "metadata": {},
   "outputs": [],
   "source": []
  },
  {
   "cell_type": "markdown",
   "metadata": {},
   "source": [
    "## 输出结果"
   ]
  },
  {
   "cell_type": "markdown",
   "metadata": {},
   "source": [
    "### 测试1"
   ]
  },
  {
   "cell_type": "markdown",
   "metadata": {},
   "source": [
    "[\n",
    "    {\n",
    "        \"Name\": \"System\",\n",
    "        \"question\": \"参与讨论的英雄名称\",\n",
    "        \"answer\": [\n",
    "            \"John Jumper_Simulator\",\n",
    "            \"Kenneth M. Merz Jr_Simulator\",\n",
    "            \"Michael Levitt_Simulator\",\n",
    "            \"David Baker_Simulator\"\n",
    "        ]\n",
    "    },\n",
    "    {\n",
    "        \"Name\": \"System\",\n",
    "        \"question\": \"提问者参与次数\",\n",
    "        \"answer\": 3\n",
    "    }\n",
    "]"
   ]
  },
  {
   "cell_type": "markdown",
   "metadata": {},
   "source": [
    "gpt-4o-mini\n",
    "spark：3\n",
    "criti：3\n",
    "再次输入问题：space\n",
    "启发型\n",
    "结果：2148\n",
    "chatid：2"
   ]
  },
  {
   "cell_type": "markdown",
   "metadata": {},
   "source": [
    "chatid:3 解答型 结果：2216"
   ]
  },
  {
   "cell_type": "markdown",
   "metadata": {},
   "source": [
    "### 对于其他llm的input"
   ]
  },
  {
   "cell_type": "markdown",
   "metadata": {},
   "source": [
    "1.A large fraction of metalloenzymes harbors multiple metal-centers that are electronically and/or functionally arranged within their proteinaceous environments. To explore the orchestration of inorganic and biochemical components and to develop bioinorganic catalysts and materials, we have described selected examples of artificial metalloproteins having multiple metallocofactors that were grouped depending on their initial protein scaffolds, the nature of introduced inorganic moieties, and the method used to propagate the number of metal ions within a protein. They demonstrated that diverse inorganic moieties can be selectively grafted and modulated in protein environments, providing a retrosynthetic bottom-up approach in the design of versatile and proficient biocatalysts and biomimetic model systems to explore fundamental questions in bioinorganic chemistry.\\n2.Metalloproteins and metalloenzymes play important roles in biological systems by using the limited metal ions, complexes, and clusters that are associated with the protein matrix. The design of artificial metalloproteins and metalloenzymes not only reveals the structure and function relationship of natural proteins, but also enables the synthesis of artificial proteins and enzymes with improved properties and functions. Acknowledging the progress in rational design from single to multiple active sites, this review focuses on recent achievements in the design of artificial metalloproteins and metalloenzymes with metal clusters, including zinc clusters, cadmium clusters, iron-sulfur clusters, and copper-sulfur clusters, as well as noble metal clusters and others. These metal clusters were designed in both native and de novo protein scaffolds for structural roles, electron transfer, or catalysis. Some synthetic metal clusters as functional models of native enzymes are also discussed. These achievements provide valuable insights for deep understanding of the natural proteins and enzymes, and practical clues for the further design of artificial enzymes with functions comparable or even beyond those of natural counterparts.\\n这是2篇文献摘要，请总结一下这里面的研究领域有哪些，请问里面涉及哪些具体的酶的类型（如金属蛋白酶、β-内酰胺酶、超氧化物歧化酶），哪种金属在酶中最为广泛？文档里面设计哪些具体研究方法和技术？请按出现频率多到少排序输出。\\n然后你们可以聊一聊，这个领域已经取得了什么进展，未来有什么可以做的有价值的研究？尤其是，我们是做计算的，使用分子模拟或人工智能的技术有何可为？请结合我提供的文献和笔记来回答，必要时引用其信息来源。最后生成5个关于这个领域可以尝试的课题idea，每个idea给出具体的执行步骤"
   ]
  },
  {
   "cell_type": "markdown",
   "metadata": {},
   "source": [
    "### 智谱"
   ]
  },
  {
   "cell_type": "markdown",
   "metadata": {},
   "source": [
    "Idea: 开发基于人工智能的金属酶活性中心设计平台。\n",
    "执行步骤：\n",
    "a. 收集和整理已知的金属酶结构数据库。\n",
    "b. 利用机器学习模型训练识别金属酶活性中心的特征。\n",
    "c. 设计算法来预测新的金属中心配置及其催化潜力。\n",
    "d. 实验验证预测模型的有效性。\n",
    "Idea: 利用分子模拟研究金属簇在蛋白支架中的动态行为。\n",
    "执行步骤：\n",
    "a. 选择特定的金属簇和蛋白支架。\n",
    "b. 进行分子动力学模拟以观察金属簇的运动。\n",
    "c. 分析模拟结果以理解金属簇与蛋白支架的相互作用。\n",
    "d. 提出结构-功能关系假说并进行实验验证。\n",
    "Idea: 设计新型铁-硫簇金属酶用于生物催化。\n",
    "执行步骤：\n",
    "a. 确定目标催化反应。\n",
    "b. 设计铁-硫簇的化学结构。\n",
    "c. 在蛋白支架中引入设计的铁-硫簇。\n",
    "d. 表征和优化新酶的催化性能。\n",
    "Idea: 利用计算模型研究金属蛋白的稳定性。\n",
    "执行步骤：\n",
    "a. 选择一系列金属蛋白作为研究对象。\n",
    "b. 使用计算方法预测金属蛋白的折叠自由能。\n",
    "c. 分析金属离子对蛋白稳定性的影响。\n",
    "d. 设计实验来验证计算预测。\n",
    "Idea: 开发基于金属簇的人工金属酶用于环境修复。\n",
    "执行步骤：\n",
    "a. 确定需要修复的环境污染物。\n",
    "b. 设计能够降解污染物的金属簇结构。\n",
    "c. 在蛋白支架中嵌入金属簇并优化其催化活性。\n",
    "d. 在模拟环境中测试人工金属酶的修复效果。"
   ]
  },
  {
   "cell_type": "markdown",
   "metadata": {},
   "source": [
    "### kimi 联网"
   ]
  },
  {
   "cell_type": "markdown",
   "metadata": {},
   "source": [
    "1. **利用机器学习预测金属蛋白的结构和功能**：\n",
    "   - 收集大量金属蛋白的序列和结构数据。\n",
    "   - 使用深度学习模型进行训练，预测未知金属蛋白的结构和功能。\n",
    "2. **设计新型人工金属酶用于CO2还原**：\n",
    "   - 通过计算化学方法筛选有效的金属簇。\n",
    "   - 利用蛋白质工程构建新型金属酶。\n",
    "3. **开发仿生模型系统研究金属离子的生物矿化过程**：\n",
    "   - 设计仿生模型系统模拟金属离子的矿化过程。\n",
    "   - 研究金属离子在生物矿化中的作用机制。\n",
    "4. **利用分子动力学模拟研究金属酶的催化机制**：\n",
    "   - 对已知金属酶进行分子动力学模拟。\n",
    "   - 分析金属离子在催化过程中的动态变化。\n",
    "5. **开发人工智能辅助的蛋白质设计平台**：\n",
    "   - 构建一个集成机器学习和分子模拟的蛋白质设计平台。\n",
    "   - 用于设计具有特定功能的新型金属蛋白和酶。\n"
   ]
  },
  {
   "cell_type": "markdown",
   "metadata": {},
   "source": [
    "### tongyi"
   ]
  },
  {
   "cell_type": "markdown",
   "metadata": {},
   "source": [
    "\n",
    "1. **开发新型铁硫簇人工酶**\n",
    "   - 步骤：选择一个合适的蛋白质支架；引入铁硫簇；进行结构优化；测试其催化效率；与天然酶对比分析。\n",
    "\n",
    "2. **基于AI的金属蛋白设计平台构建**\n",
    "   - 步骤：收集并整理现有的金属蛋白数据集；训练深度学习模型；建立用户界面友好的设计工具；对生成的设计进行实验验证。\n",
    "\n",
    "3. **锌簇人工酶的抗肿瘤应用研究**\n",
    "   - 步骤：识别潜在的锌簇靶标；设计相应的锌簇人工酶；评估其对癌细胞的影响；开展体内实验。\n",
    "\n",
    "4. **铜硫簇电子传输机制解析**\n",
    "   - 步骤：选定含有铜硫簇的蛋白质；利用光谱技术和理论计算研究其电子传输路径；发表研究成果。\n",
    "\n",
    "5. **多金属中心协同作用的模拟研究**\n",
    "   - 步骤：选取两个或更多不同类型的金属簇；构建包含这些金属簇的复合体模型；模拟它们之间可能发生的协同效应；分析结果并提出改进建议。"
   ]
  },
  {
   "cell_type": "markdown",
   "metadata": {},
   "source": [
    "### deepsick 联网"
   ]
  },
  {
   "cell_type": "markdown",
   "metadata": {},
   "source": [
    "1. 基于机器学习的金属蛋白催化活性预测\n",
    "执行步骤：\n",
    "\n",
    "收集已知金属蛋白的结构和催化活性数据。\n",
    "\n",
    "使用机器学习算法（如随机森林、神经网络）训练模型。\n",
    "\n",
    "预测新设计的金属蛋白的催化活性。\n",
    "\n",
    "实验验证预测结果。\n",
    "\n",
    "2. 多金属中心酶的计算设计与优化\n",
    "执行步骤：\n",
    "\n",
    "使用分子动力学模拟研究多金属中心在蛋白质环境中的稳定性。\n",
    "\n",
    "通过量子化学计算优化金属中心的电子结构。\n",
    "\n",
    "设计并合成具有优化金属中心的人工酶。\n",
    "\n",
    "评估其催化效率和选择性。\n",
    "\n",
    "3. 光调控金属簇催化活性的研究\n",
    "执行步骤：\n",
    "\n",
    "设计含有光敏基团的金属簇。\n",
    "\n",
    "使用分子模拟研究光激发下金属簇的电子结构变化。\n",
    "\n",
    "合成光调控金属簇并引入蛋白质环境。\n",
    "\n",
    "研究光调控下的催化活性变化。\n",
    "\n",
    "4. 铁硫簇酶的功能模拟与优化\n",
    "执行步骤：\n",
    "\n",
    "使用计算化学方法模拟天然铁硫簇酶的结构和功能。\n",
    "\n",
    "设计并合成功能模拟的铁硫簇。\n",
    "\n",
    "将模拟铁硫簇引入人工蛋白质支架。\n",
    "\n",
    "评估其电子传递和催化功能。\n",
    "\n",
    "5. 基于人工智能的金属蛋白从头设计\n",
    "执行步骤：\n",
    "\n",
    "开发基于深度学习的蛋白质设计算法。\n",
    "\n",
    "使用算法设计具有特定金属中心的蛋白质支架。\n",
    "\n",
    "合成并验证设计的金属蛋白。\n",
    "\n",
    "评估其结构和功能特性。"
   ]
  },
  {
   "cell_type": "markdown",
   "metadata": {},
   "source": [
    "### 4omini"
   ]
  },
  {
   "cell_type": "markdown",
   "metadata": {},
   "source": [
    "Idea: 设计具有多金属中心的人工酶。 执行步骤： 选择多金属簇设计的理论框架（如金属簇的协同催化机制）。 利用分子模拟优化金属离子和蛋白质之间的相互作用。 合成人工金属酶并进行催化性能测试。 调节金属簇的大小、形态和电子结构，以提高催化活性。\n",
    "Idea: 机器学习优化金属簇设计。 执行步骤： 收集不同金属簇和酶的实验数据。 使用机器学习算法（如支持向量机、神经网络）建立金属簇设计的预测模型。 基于模型筛选新型金属簇，并进行实验验证。 优化设计策略，使得金属簇在催化反应中的表现更加优异。\n",
    "Idea: 金属簇在环境催化中的应用。 执行步骤： 设计和合成具有高催化活性的金属簇，针对环境问题（如CO₂还原或废水处理）。 通过分子模拟优化金属簇的结构与反应路径。 进行实验验证，评估催化性能。 分析催化反应机理，并探索其大规模应用的可行性。\n",
    "Idea: 人工金属酶在能源转换中的应用。 执行步骤： 设计具有高效催化能力的人工金属酶，特别是用于水分解反应或CO₂还原。 使用计算化学方法预测催化反应机理。 合成人工酶并评估其在能源转换反应中的效率。 将实验结果与计算模型进行对比，优化酶的性能。\n",
    "Idea: 基于金属簇的生物催化剂的生物可降解性和生物兼容性研究。 执行步骤： 设计具有良好生物降解性和生物兼容性的金属簇。 评估这些金属簇在生物体内的稳定性和催化效果。"
   ]
  },
  {
   "cell_type": "markdown",
   "metadata": {},
   "source": [
    "### merge\n"
   ]
  },
  {
   "cell_type": "markdown",
   "metadata": {},
   "source": [
    "## 问题方法"
   ]
  },
  {
   "cell_type": "markdown",
   "metadata": {},
   "source": [
    "### method\n"
   ]
  },
  {
   "cell_type": "markdown",
   "metadata": {},
   "source": [
    "在模糊评价中，确定权重是一个关键步骤，因为它直接影响到评价结果的准确性和可靠性。权重的确定通常有以下几种方法：\n",
    "\n",
    "专家打分法：\n",
    "\n",
    "邀请领域内的专家，根据他们的经验和知识，对各个评价指标的重要性进行打分。然后，通过统计方法（如平均值、中位数等）来确定最终的权重。\n",
    "层次分析法（AHP）：\n",
    "\n",
    "通过构建层次结构模型，将复杂问题分解为不同层次的指标。利用成对比较的方法，确定各指标之间的相对重要性，进而计算出权重。\n",
    "熵值法：\n",
    "\n",
    "基于信息熵原理，衡量各指标的离散程度。离散程度越大，说明该指标在评价中所包含的信息量越多，其权重应相应较大。\n",
    "主成分分析法：\n",
    "\n",
    "通过统计学中的主成分分析，提取主要的评价指标，并对原始指标进行降维处理，从而确定各指标的权重。\n",
    "模糊德尔菲法：\n",
    "\n",
    "结合模糊数学和德尔菲法，通过多轮征询和反馈，逐步调整和确定各指标的权重。\n",
    "数据包络分析法（DEA）：\n",
    "\n",
    "利用DEA模型，通过评价单元之间的相对效率，来确定各指标的权重。\n",
    "遗传算法：\n",
    "\n",
    "利用遗传算法的优化特性，通过迭代搜索最优解，来确定各指标的权重。\n",
    "灰色关联分析法：\n",
    "\n",
    "通过计算各指标与参考序列之间的关联度，来确定权重。关联度越高，权重越大。\n",
    "层次模糊综合评价法：\n",
    "\n",
    "结合层次分析法和模糊综合评价法，先确定各指标的层次结构，再通过模糊综合评价确定权重。\n",
    "基于数据的权重确定方法：\n",
    "\n",
    "如果有历史数据或相关统计数据，可以通过数据分析来确定各指标的权重。\n",
    "在实际应用中，可以根据具体情况和可用数据，选择一种或多种方法来确定权重。有时候，为了提高评价的准确性，也会采用多种方法综合确定权重。"
   ]
  },
  {
   "cell_type": "markdown",
   "metadata": {},
   "source": [
    "层次分析：相对重要性矩阵"
   ]
  },
  {
   "cell_type": "markdown",
   "metadata": {},
   "source": [
    "熵值法：每个的评分归一化得到权重，计算熵ej，dj=1-ej，得到d，最终"
   ]
  },
  {
   "cell_type": "markdown",
   "metadata": {},
   "source": [
    "DEA：m个方法，k指标，通过计算效率得分（自定义函数？），使用线性规划。"
   ]
  },
  {
   "cell_type": "markdown",
   "metadata": {},
   "source": [
    "灰色关联：和参考数据比较，对数据敏感"
   ]
  },
  {
   "cell_type": "markdown",
   "metadata": {},
   "source": [
    "### problem\n"
   ]
  },
  {
   "cell_type": "markdown",
   "metadata": {},
   "source": [
    "1. 位置偏好，交换位置\n",
    "2. 长度偏好\n",
    "3. 相似偏好"
   ]
  },
  {
   "cell_type": "markdown",
   "metadata": {},
   "source": [
    "## 评分prompt"
   ]
  },
  {
   "cell_type": "markdown",
   "metadata": {},
   "source": [
    "#### usegpt"
   ]
  },
  {
   "cell_type": "markdown",
   "metadata": {},
   "source": [
    "您是一个对于idea评分的专家。您需要对多个条目（包含“idea”和“执行步骤”）进行评分。评分基于以下三个具体指标，每个指标的最高分为1分。\n",
    "评分标准：\n",
    "可行性（Feasibility）：\n",
    "\n",
    "衡量条目的实际可行性，包括执行步骤的清晰度、资源的需求合理性、以及现有技术是否能支持执行。\n",
    "评分范围：0-1。\n",
    "影响力（Impact）：\n",
    "\n",
    "衡量条目可能对目标领域、相关学科或实际应用产生的影响，包括技术进步、问题解决的能力、或新领域的开拓。\n",
    "评分范围：0-1。\n",
    "新颖性（Novelty）：\n",
    "\n",
    "衡量条目的创新性，包括与现有研究相比的新颖程度、概念的原创性，以及是否引入了独特的方法或思路。\n",
    "评分范围：0-1。\n",
    "评估流程：\n",
    "逐条阅读和分析条目：\n",
    "\n",
    "阅读条目中的“idea”和“执行步骤”，理解其目标、执行方法以及潜在意义。\n",
    "独立分析条目的可行性、影响力、新颖性，并避免因条目顺序或位置而产生任何偏差。\n",
    "评分：\n",
    "\n",
    "为每个条目的可行性、影响力、新颖性分别评分，并简要说明评分理由。\n",
    "注意评分必须基于条目的内容，而非条目的位置或强度。\n",
    "输出格式：\n",
    "\n",
    "返回每个条目的序号及三项指标的分数。\n",
    "输出格式如下：\n",
    "评分格式：\n",
    "序号：[条目编号]\n",
    "可行性（Feasibility）：[分数] – 简要理由\n",
    "影响力（Impact）：[分数] – 简要理由\n",
    "新颖性（Novelty）：[分数] – 简要理由"
   ]
  },
  {
   "cell_type": "markdown",
   "metadata": {},
   "source": [
    "结果不太合理储存在score.csv，换排名试试"
   ]
  },
  {
   "cell_type": "markdown",
   "metadata": {},
   "source": [
    "您是一个idea评分专家，我将以文本形式给您提供多个带有序号的条目，每个条目含有idea和执行不走。您需要对多个条目（包含“idea”和“执行步骤”）进行评估，并根据三个具体指标对条目进行排序。\n",
    "\n",
    "评估标准：\n",
    "可行性（Feasibility）：\n",
    "\n",
    "衡量条目的实际可行性，包括执行步骤的清晰度、资源的需求合理性、以及现有技术是否能支持执行。\n",
    "影响力（Impact）：\n",
    "\n",
    "衡量条目可能对目标领域、相关学科或实际应用产生的影响，包括技术进步、问题解决的能力、或新领域的开拓。\n",
    "新颖性（Novelty）：\n",
    "\n",
    "衡量条目的创新性，包括与现有研究相比的新颖程度、概念的原创性，以及是否引入了独特的方法或思路。\n",
    "评估流程：\n",
    "逐条阅读和分析条目：\n",
    "\n",
    "阅读条目中的“idea”和“执行步骤”，理解其目标、执行方法以及潜在意义。\n",
    "独立分析条目的可行性、影响力、新颖性，并避免因条目顺序或位置而产生任何偏差。\n",
    "排序：\n",
    "\n",
    "对所有条目分别按照三个指标（可行性、影响力、新颖性）的表现进行排序，1表示最好（排名第一），最差是提供的idea总数。注意，排名不能重复！\n",
    "输出格式：\n",
    "\n",
    "输出每个条目在每个指标上的排名，格式如下：\n",
    "输出格式：(对于每一个条目)\n",
    "序号：[条目编号]\n",
    "可行性（Feasibility）：可行性排名\n",
    "影响力（Impact）：影响力排名\n",
    "新颖性（Novelty）：新颖性排名\n",
    "结果按照序号生成表格"
   ]
  },
  {
   "attachments": {
    "image.png": {
     "image/png": "[encoded data removed]"
    }
   },
   "cell_type": "markdown",
   "metadata": {},
   "source": [
    "![image.png](attachment:image.png)"
   ]
  },
  {
   "cell_type": "markdown",
   "metadata": {},
   "source": [
    "也不行，猜测：数量问题"
   ]
  },
  {
   "cell_type": "markdown",
   "metadata": {},
   "source": [
    "每轮将每个llm生成的第i个idea进行比较后评分，受位次影响较大。排名尚且可用，但是有时候出现并列名次，尽管prompt强调"
   ]
  },
  {
   "cell_type": "markdown",
   "metadata": {},
   "source": [
    "#### similarity"
   ]
  },
  {
   "cell_type": "code",
   "execution_count": 1,
   "metadata": {},
   "outputs": [
    {
     "ename": "SyntaxError",
     "evalue": "unterminated string literal (detected at line 1) (3326864123.py, line 1)",
     "output_type": "error",
     "traceback": [
      "\u001b[0;36m  Cell \u001b[0;32mIn[1], line 1\u001b[0;36m\u001b[0m\n\u001b[0;31m    example=\"idea 利用分子模拟与实验的结合探索金属离子间相互作用对多重催化位点的影响，旨在解决多金属模型中常出现的不稳定性问题。该想法希望找到优化金属组合及排列以提升酶活性的新捷径。 执行步骤 1. 选择具有协同效应的金属离子，并通过分子模拟评估其在不同布局下的稳定性。 2. 合成预选的多金属酶，并比较不同金属组合的催化性能。 3. 实施催化实验，分析反应过程中的中间体变化。 4. 借助量化分析技术，对金属中心的分布影响进行评价。 5. 根据实验结果反馈至模拟中，优化金属组合及相对位置。\u001b[0m\n\u001b[0m            ^\u001b[0m\n\u001b[0;31mSyntaxError\u001b[0m\u001b[0;31m:\u001b[0m unterminated string literal (detected at line 1)\n"
     ]
    }
   ],
   "source": [
    "example=\"idea 利用分子模拟与实验的结合探索金属离子间相互作用对多重催化位点的影响，旨在解决多金属模型中常出现的不稳定性问题。该想法希望找到优化金属组合及排列以提升酶活性的新捷径。 执行步骤 1. 选择具有协同效应的金属离子，并通过分子模拟评估其在不同布局下的稳定性。 2. 合成预选的多金属酶，并比较不同金属组合的催化性能。 3. 实施催化实验，分析反应过程中的中间体变化。 4. 借助量化分析技术，对金属中心的分布影响进行评价。 5. 根据实验结果反馈至模拟中，优化金属组合及相对位置。\n",
    "\""
   ]
  },
  {
   "cell_type": "code",
   "execution_count": 2,
   "metadata": {},
   "outputs": [
    {
     "name": "stdout",
     "output_type": "stream",
     "text": [
      "Requirement already satisfied: pandas in /home/yyx/miniconda3/envs/hero/lib/python3.10/site-packages (2.2.3)\n",
      "Requirement already satisfied: scikit-learn in /home/yyx/miniconda3/envs/hero/lib/python3.10/site-packages (1.6.0)\n",
      "Requirement already satisfied: googletrans==4.0.0-rc1 in /home/yyx/miniconda3/envs/hero/lib/python3.10/site-packages (4.0.0rc1)\n",
      "Requirement already satisfied: httpx==0.13.3 in /home/yyx/miniconda3/envs/hero/lib/python3.10/site-packages (from googletrans==4.0.0-rc1) (0.13.3)\n",
      "Requirement already satisfied: certifi in /home/yyx/miniconda3/envs/hero/lib/python3.10/site-packages (from httpx==0.13.3->googletrans==4.0.0-rc1) (2024.12.14)\n",
      "Requirement already satisfied: hstspreload in /home/yyx/miniconda3/envs/hero/lib/python3.10/site-packages (from httpx==0.13.3->googletrans==4.0.0-rc1) (2025.1.1)\n",
      "Requirement already satisfied: sniffio in /home/yyx/miniconda3/envs/hero/lib/python3.10/site-packages (from httpx==0.13.3->googletrans==4.0.0-rc1) (1.3.1)\n",
      "Requirement already satisfied: chardet==3.* in /home/yyx/miniconda3/envs/hero/lib/python3.10/site-packages (from httpx==0.13.3->googletrans==4.0.0-rc1) (3.0.4)\n",
      "Requirement already satisfied: idna==2.* in /home/yyx/miniconda3/envs/hero/lib/python3.10/site-packages (from httpx==0.13.3->googletrans==4.0.0-rc1) (2.10)\n",
      "Requirement already satisfied: rfc3986<2,>=1.3 in /home/yyx/miniconda3/envs/hero/lib/python3.10/site-packages (from httpx==0.13.3->googletrans==4.0.0-rc1) (1.5.0)\n",
      "Requirement already satisfied: httpcore==0.9.* in /home/yyx/miniconda3/envs/hero/lib/python3.10/site-packages (from httpx==0.13.3->googletrans==4.0.0-rc1) (0.9.1)\n",
      "Requirement already satisfied: h11<0.10,>=0.8 in /home/yyx/miniconda3/envs/hero/lib/python3.10/site-packages (from httpcore==0.9.*->httpx==0.13.3->googletrans==4.0.0-rc1) (0.9.0)\n",
      "Requirement already satisfied: h2==3.* in /home/yyx/miniconda3/envs/hero/lib/python3.10/site-packages (from httpcore==0.9.*->httpx==0.13.3->googletrans==4.0.0-rc1) (3.2.0)\n",
      "Requirement already satisfied: hyperframe<6,>=5.2.0 in /home/yyx/miniconda3/envs/hero/lib/python3.10/site-packages (from h2==3.*->httpcore==0.9.*->httpx==0.13.3->googletrans==4.0.0-rc1) (5.2.0)\n",
      "Requirement already satisfied: hpack<4,>=3.0 in /home/yyx/miniconda3/envs/hero/lib/python3.10/site-packages (from h2==3.*->httpcore==0.9.*->httpx==0.13.3->googletrans==4.0.0-rc1) (3.0.0)\n",
      "Requirement already satisfied: numpy>=1.22.4 in /home/yyx/miniconda3/envs/hero/lib/python3.10/site-packages (from pandas) (2.2.1)\n",
      "Requirement already satisfied: python-dateutil>=2.8.2 in /home/yyx/miniconda3/envs/hero/lib/python3.10/site-packages (from pandas) (2.9.0.post0)\n",
      "Requirement already satisfied: pytz>=2020.1 in /home/yyx/miniconda3/envs/hero/lib/python3.10/site-packages (from pandas) (2024.2)\n",
      "Requirement already satisfied: tzdata>=2022.7 in /home/yyx/miniconda3/envs/hero/lib/python3.10/site-packages (from pandas) (2024.2)\n",
      "Requirement already satisfied: scipy>=1.6.0 in /home/yyx/miniconda3/envs/hero/lib/python3.10/site-packages (from scikit-learn) (1.14.1)\n",
      "Requirement already satisfied: joblib>=1.2.0 in /home/yyx/miniconda3/envs/hero/lib/python3.10/site-packages (from scikit-learn) (1.4.2)\n",
      "Requirement already satisfied: threadpoolctl>=3.1.0 in /home/yyx/miniconda3/envs/hero/lib/python3.10/site-packages (from scikit-learn) (3.5.0)\n",
      "Requirement already satisfied: six>=1.5 in /home/yyx/miniconda3/envs/hero/lib/python3.10/site-packages (from python-dateutil>=2.8.2->pandas) (1.17.0)\n"
     ]
    }
   ],
   "source": [
    "!pip install pandas scikit-learn googletrans==4.0.0-rc1"
   ]
  },
  {
   "cell_type": "code",
   "execution_count": 6,
   "metadata": {},
   "outputs": [
    {
     "name": "stdout",
     "output_type": "stream",
     "text": [
      "Collecting translatepy\n",
      "  Downloading translatepy-2.3-py3-none-any.whl.metadata (16 kB)\n",
      "Requirement already satisfied: requests in /home/yyx/miniconda3/envs/hero/lib/python3.10/site-packages (from translatepy) (2.32.3)\n",
      "Collecting safeIO>=1.2 (from translatepy)\n",
      "  Downloading safeIO-1.2.tar.gz (8.0 kB)\n",
      "  Preparing metadata (setup.py) ... \u001b[?25ldone\n",
      "\u001b[?25hCollecting beautifulsoup4 (from translatepy)\n",
      "  Downloading beautifulsoup4-4.12.3-py3-none-any.whl.metadata (3.8 kB)\n",
      "Collecting pyuseragents (from translatepy)\n",
      "  Downloading pyuseragents-1.0.5-py3-none-any.whl.metadata (4.3 kB)\n",
      "Collecting inquirer>=2.8.0 (from translatepy)\n",
      "  Downloading inquirer-3.4.0-py3-none-any.whl.metadata (6.8 kB)\n",
      "Collecting blessed>=1.19.0 (from inquirer>=2.8.0->translatepy)\n",
      "  Downloading blessed-1.20.0-py2.py3-none-any.whl.metadata (13 kB)\n",
      "Collecting editor>=1.6.0 (from inquirer>=2.8.0->translatepy)\n",
      "  Downloading editor-1.6.6-py3-none-any.whl.metadata (2.3 kB)\n",
      "Collecting readchar>=4.2.0 (from inquirer>=2.8.0->translatepy)\n",
      "  Downloading readchar-4.2.1-py3-none-any.whl.metadata (7.5 kB)\n",
      "Collecting soupsieve>1.2 (from beautifulsoup4->translatepy)\n",
      "  Downloading soupsieve-2.6-py3-none-any.whl.metadata (4.6 kB)\n",
      "Requirement already satisfied: charset-normalizer<4,>=2 in /home/yyx/miniconda3/envs/hero/lib/python3.10/site-packages (from requests->translatepy) (3.4.1)\n",
      "Requirement already satisfied: idna<4,>=2.5 in /home/yyx/miniconda3/envs/hero/lib/python3.10/site-packages (from requests->translatepy) (2.10)\n",
      "Requirement already satisfied: urllib3<3,>=1.21.1 in /home/yyx/miniconda3/envs/hero/lib/python3.10/site-packages (from requests->translatepy) (2.3.0)\n",
      "Requirement already satisfied: certifi>=2017.4.17 in /home/yyx/miniconda3/envs/hero/lib/python3.10/site-packages (from requests->translatepy) (2024.12.14)\n",
      "Requirement already satisfied: wcwidth>=0.1.4 in /home/yyx/miniconda3/envs/hero/lib/python3.10/site-packages (from blessed>=1.19.0->inquirer>=2.8.0->translatepy) (0.2.13)\n",
      "Requirement already satisfied: six>=1.9.0 in /home/yyx/miniconda3/envs/hero/lib/python3.10/site-packages (from blessed>=1.19.0->inquirer>=2.8.0->translatepy) (1.17.0)\n",
      "Collecting runs (from editor>=1.6.0->inquirer>=2.8.0->translatepy)\n",
      "  Downloading runs-1.2.2-py3-none-any.whl.metadata (10 kB)\n",
      "Collecting xmod (from editor>=1.6.0->inquirer>=2.8.0->translatepy)\n",
      "  Downloading xmod-1.8.1-py3-none-any.whl.metadata (1.8 kB)\n",
      "Downloading translatepy-2.3-py3-none-any.whl (814 kB)\n",
      "\u001b[2K   \u001b[90m━━━━━━━━━━━━━━━━━━━━━━━━━━━━━━━━━━━━━━━━\u001b[0m \u001b[32m814.4/814.4 kB\u001b[0m \u001b[31m3.1 MB/s\u001b[0m eta \u001b[36m0:00:00\u001b[0m-:--:--\u001b[0m\n",
      "\u001b[?25hDownloading inquirer-3.4.0-py3-none-any.whl (18 kB)\n",
      "Downloading beautifulsoup4-4.12.3-py3-none-any.whl (147 kB)\n",
      "Downloading pyuseragents-1.0.5-py3-none-any.whl (79 kB)\n",
      "Downloading blessed-1.20.0-py2.py3-none-any.whl (58 kB)\n",
      "Downloading editor-1.6.6-py3-none-any.whl (4.0 kB)\n",
      "Downloading readchar-4.2.1-py3-none-any.whl (9.3 kB)\n",
      "Downloading soupsieve-2.6-py3-none-any.whl (36 kB)\n",
      "Downloading runs-1.2.2-py3-none-any.whl (7.0 kB)\n",
      "Downloading xmod-1.8.1-py3-none-any.whl (4.6 kB)\n",
      "Building wheels for collected packages: safeIO\n",
      "  Building wheel for safeIO (setup.py) ... \u001b[?25ldone\n",
      "\u001b[?25h  Created wheel for safeIO: filename=safeIO-1.2-py3-none-any.whl size=6732 sha256=8944e395234efaff95474dfce6a6af5aec3cac700a3c5d8e86327905b51d0ea6\n",
      "  Stored in directory: /home/yyx/.cache/pip/wheels/65/77/55/49296e806480db1fa92548fe2eb7447048830f14dbf3e34940\n",
      "Successfully built safeIO\n",
      "Installing collected packages: safeIO, pyuseragents, xmod, soupsieve, readchar, blessed, runs, beautifulsoup4, editor, inquirer, translatepy\n",
      "Successfully installed beautifulsoup4-4.12.3 blessed-1.20.0 editor-1.6.6 inquirer-3.4.0 pyuseragents-1.0.5 readchar-4.2.1 runs-1.2.2 safeIO-1.2 soupsieve-2.6 translatepy-2.3 xmod-1.8.1\n"
     ]
    }
   ],
   "source": [
    "!pip install translatepy\n"
   ]
  },
  {
   "cell_type": "code",
   "execution_count": 9,
   "metadata": {},
   "outputs": [
    {
     "name": "stdout",
     "output_type": "stream",
     "text": [
      "\n",
      "Translated input: Develop a machine learning-based model to analyze and optimize the design of artificial metallozymes to solve the problem of low efficiency of traditional experimental methods.Innovation lies in the use of data-driven methods to provide theoretical support for the catalytic properties of metallozymes. Perform step 1. Collect experimental data of existing metallozymes, including their catalytic properties and three-dimensional structure information. 2. Apply machine learning technology, build a predictive model, and analyze key influencing factors based on existing data. 3. Design a new metallozyme to be incorporated into the model and perform virtual screening. 4. Conduct experimental verification of excellent candidate metallozymes and evaluate their actual performance. 5. Iteratively update the model and optimize the design process based on new experimental data.\n",
      "\n",
      "Top 5 most similar articles with non-zero similarity:\n",
      "Title: Machine Learning Approaches for Metalloproteins, Year: 2022, Similarity: 0.1449\n",
      "Title: MAHOMES II: A webserver for predicting if a metal binding site is enzymatic, Year: 2023, Similarity: 0.1035\n",
      "Title: MAHOMES II: A webserver for predicting if a metal binding site is enzymatic, Year: 2023, Similarity: 0.1035\n",
      "Title: Machine learning differentiates enzymatic and non-enzymatic metals in proteins, Year: 2021, Similarity: 0.0928\n",
      "Title: What can molecular modelling bring to the design of artificial inorganic cofactors?, Year: 2011, Similarity: 0.0829\n"
     ]
    }
   ],
   "source": [
    "import pandas as pd\n",
    "from sklearn.feature_extraction.text import TfidfVectorizer\n",
    "from sklearn.metrics.pairwise import cosine_similarity\n",
    "from translatepy import Translator\n",
    "import re\n",
    "from sklearn.feature_extraction.text import ENGLISH_STOP_WORDS\n",
    "\n",
    "# 文本预处理函数\n",
    "def preprocess_text(text):\n",
    "    text = re.sub(r'[^\\w\\s]', '', text)\n",
    "    text = re.sub(r'\\d+', '', text)\n",
    "    text = text.lower()\n",
    "    words = [word for word in text.split() if word not in ENGLISH_STOP_WORDS]\n",
    "    return ' '.join(words)\n",
    "\n",
    "# 加载 results.csv\n",
    "file_path = 'results.csv'  # 文件路径\n",
    "try:\n",
    "    abs = pd.read_csv(file_path)\n",
    "    abs.columns = abs.columns.str.strip().str.lower()\n",
    "    if not {'abstract', 'title', 'year'}.issubset(abs.columns):\n",
    "        raise ValueError(\"The CSV file must contain 'abstract', 'title', and 'year' columns.\")\n",
    "except Exception as e:\n",
    "    print(f\"Error loading file: {e}\")\n",
    "    exit()\n",
    "\n",
    "# 用户输入\n",
    "input_text = \"idea 利用分子模拟与实验的结合探索金属离子间相互作用对多重催化位点的影响，旨在解决多金属模型中常出现的不稳定性问题。该想法希望找到优化金属组合及排列以提升酶活性的新捷径。 执行步骤 1. 选择具有协同效应的金属离子，并通过分子模拟评估其在不同布局下的稳定性。 2. 合成预选的多金属酶，并比较不同金属组合的催化性能。 3. 实施催化实验，分析反应过程中的中间体变化。 4. 借助量化分析技术，对金属中心的分布影响进行评价。 5. 根据实验结果反馈至模拟中，优化金属组合及相对位置。\"\n",
    "input_text = \"发展基于机器学习的模型来分析和优化人工金属酶的设计，解决传统实验方法效率低的问题。创新性在于运用数据驱动的方法为金属酶的催化性能提供理论支持。 执行步骤 1. 收集已有的金属酶的实验数据，包括它们的催化性能和三维结构信息。 2. 应用机器学习技术，构建预测模型，根据现有数据分析关键影响因素。 3. 设计新的金属酶纳入模型，进行虚拟筛选。 4. 对优秀候选金属酶进行实验验证，评估实际表现。 5. 迭代更新模型，根据新的实验数据优化设计流程。\"\n",
    "translator = Translator()\n",
    "\n",
    "# 翻译文本\n",
    "try:\n",
    "    translated_input = translator.translate(input_text, \"English\").result\n",
    "    print(f\"\\nTranslated input: {translated_input}\")\n",
    "except Exception as e:\n",
    "    print(f\"Translation failed: {e}\")\n",
    "    translated_input = input_text\n",
    "\n",
    "# 文本预处理\n",
    "translated_input = preprocess_text(translated_input)\n",
    "abstracts = abs['abstract'].fillna(\"\").apply(preprocess_text)\n",
    "\n",
    "# 计算 TF-IDF 特征向量\n",
    "texts = [translated_input] + abstracts.tolist()\n",
    "vectorizer = TfidfVectorizer(max_features=5000, ngram_range=(1, 2))\n",
    "tfidf_matrix = vectorizer.fit_transform(texts)\n",
    "\n",
    "# 计算余弦相似度\n",
    "similarity_matrix = cosine_similarity(tfidf_matrix[0:1], tfidf_matrix[1:]).flatten()\n",
    "\n",
    "# 找到非零相似度的文献\n",
    "top_indices = similarity_matrix.argsort()[-10:][::-1]\n",
    "non_zero_indices = [idx for idx in top_indices if similarity_matrix[idx] > 0]\n",
    "\n",
    "# 输出前 5 篇非零相似度文献\n",
    "print(\"\\nTop 5 most similar articles with non-zero similarity:\")\n",
    "for idx in non_zero_indices[:5]:\n",
    "    title = abs.iloc[idx]['title']\n",
    "    year = abs.iloc[idx]['year']\n",
    "    similarity = similarity_matrix[idx]\n",
    "    print(f\"Title: {title}, Year: {year}, Similarity: {similarity:.4f}\")\n"
   ]
  },
  {
   "cell_type": "code",
   "execution_count": null,
   "metadata": {},
   "outputs": [],
   "source": [
    "import pandas as pd\n",
    "from sklearn.feature_extraction.text import TfidfVectorizer\n",
    "from sklearn.metrics.pairwise import cosine_similarity\n",
    "from translatepy import Translator\n",
    "import re\n",
    "from sklearn.feature_extraction.text import ENGLISH_STOP_WORDS\n",
    "\n",
    "# 文本预处理函数\n",
    "def preprocess_text(text):\n",
    "    text = re.sub(r'[^\\w\\s]', '', text)\n",
    "    text = re.sub(r'\\d+', '', text)\n",
    "    text = text.lower()\n",
    "    words = [word for word in text.split() if word not in ENGLISH_STOP_WORDS]\n",
    "    return ' '.join(words)\n",
    "\n",
    "# 加载 results.csv\n",
    "file_path = 'results.csv'  # 文件路径\n",
    "try:\n",
    "    abs = pd.read_csv(file_path)\n",
    "    abs.columns = abs.columns.str.strip().str.lower()\n",
    "    if not {'abstract', 'title', 'year'}.issubset(abs.columns):\n",
    "        raise ValueError(\"The CSV file must contain 'abstract', 'title', and 'year' columns.\")\n",
    "except Exception as e:\n",
    "    print(f\"Error loading file: {e}\")\n",
    "    exit()\n",
    "\n",
    "# 用户输入\n",
    "input_text = \"A large fraction of metalloenzymes harbors multiple metal-centers that are electronically and/or functionally arranged...\"\n",
    "translator = Translator()\n",
    "\n",
    "# 翻译文本\n",
    "try:\n",
    "    translated_input = translator.translate(input_text, \"English\").result\n",
    "    print(f\"\\nTranslated input: {translated_input}\")\n",
    "except Exception as e:\n",
    "    print(f\"Translation failed: {e}\")\n",
    "    translated_input = input_text\n",
    "\n",
    "# 文本预处理\n",
    "translated_input = preprocess_text(translated_input)\n",
    "abstracts = abs['abstract'].fillna(\"\").apply(preprocess_text)\n",
    "\n",
    "# 计算 TF-IDF 特征向量\n",
    "texts = [translated_input] + abstracts.tolist()\n",
    "vectorizer = TfidfVectorizer(max_features=5000, ngram_range=(1, 2))\n",
    "tfidf_matrix = vectorizer.fit_transform(texts)\n",
    "\n",
    "# 计算余弦相似度\n",
    "similarity_matrix = cosine_similarity(tfidf_matrix[0:1], tfidf_matrix[1:]).flatten()\n",
    "\n",
    "# 找到非零相似度的文献\n",
    "top_indices = similarity_matrix.argsort()[-10:][::-1]\n",
    "non_zero_indices = [idx for idx in top_indices if similarity_matrix[idx] > 0]\n",
    "\n",
    "# 提取相似文献的年份\n",
    "similar_years = abs.iloc[non_zero_indices[:5]]['year']\n",
    "\n",
    "# 统计相似文献中 2019 年后的比例\n",
    "similar_2019_after_ratio = (similar_years > 2019).mean()\n",
    "print(f\"Proportion of similar articles after 2019: {similar_2019_after_ratio:.2%}\")\n",
    "\n",
    "# 统计整个数据集中 2019 年后的比例\n",
    "all_years = abs['year']\n",
    "all_2019_after_ratio = (all_years > 2019).mean()\n",
    "print(f\"Proportion of all articles after 2019: {all_2019_after_ratio:.2%}\")\n",
    "\n",
    "# 比较两者的比例\n",
    "if similar_2019_after_ratio > all_2019_after_ratio:\n",
    "    print(\"Similar articles have a higher proportion of post-2019 publications.\")\n",
    "elif similar_2019_after_ratio < all_2019_after_ratio:\n",
    "    print(\"All articles have a higher proportion of post-2019 publications.\")\n",
    "else:\n",
    "    print(\"Both have the same proportion of post-2019 publications.\")\n"
   ]
  }
 ],
 "metadata": {
  "kernelspec": {
   "display_name": "hero",
   "language": "python",
   "name": "python3"
  },
  "language_info": {
   "codemirror_mode": {
    "name": "ipython",
    "version": 3
   },
   "file_extension": ".py",
   "mimetype": "text/x-python",
   "name": "python",
   "nbconvert_exporter": "python",
   "pygments_lexer": "ipython3",
   "version": "3.10.16"
  }
 },
 "nbformat": 4,
 "nbformat_minor": 2
}
